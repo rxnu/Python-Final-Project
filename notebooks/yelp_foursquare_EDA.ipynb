{
 "cells": [
  {
   "cell_type": "code",
   "execution_count": 1,
   "metadata": {},
   "outputs": [],
   "source": [
    "# imports\n",
    "import requests\n",
    "import pandas as pd\n",
    "import time\n",
    "import os\n",
    "\n",
    "\n",
    "\n"
   ]
  },
  {
   "cell_type": "markdown",
   "metadata": {},
   "source": [
    "# Foursquare"
   ]
  },
  {
   "cell_type": "markdown",
   "metadata": {},
   "source": [
    "Send a request to Foursquare with a small radius (1000m) for all the bike stations in your city of choice. "
   ]
  },
  {
   "cell_type": "code",
   "execution_count": 8,
   "metadata": {},
   "outputs": [],
   "source": [
    "import pandas as pd\n",
    "import os\n",
    "import requests\n",
    "from collections import Counter\n",
    "\n",
    "# Load saved bike station data\n",
    "df_bicing = pd.read_csv(\"bicing.csv\")\n",
    "\n",
    "# Set up Foursquare API key and headers\n",
    "foursquare_key = os.getenv(\"FOURSQUARE_API_KEY\")\n",
    "\n",
    "headers = {\n",
    "    \"Accept\": \"application/json\",\n",
    "    \"Authorization\": foursquare_key\n",
    "}\n",
    "\n",
    "# Store both full responses and category summaries\n",
    "foursquare_responses = []\n",
    "category_summaries = []\n",
    "\n",
    "for idx, row in df_bicing.iterrows():\n",
    "    lat = row['latitude']\n",
    "    lon = row['longitude']\n",
    "    url = f\"https://api.foursquare.com/v3/places/search?ll={lat},{lon}&radius=1000&limit=50\"\n",
    "    \n",
    "    request = requests.get(url, headers=headers)\n",
    "    \n",
    "    if request.status_code == 200:\n",
    "        json_data = request.json()\n",
    "        foursquare_responses.append(json_data)\n",
    "\n",
    "        # Count POI categories for this station\n",
    "        categories = []\n",
    "        for place in json_data.get('results', []):\n",
    "            for cat in place.get('categories', []):\n",
    "                categories.append(cat['name'].lower())\n",
    "        \n",
    "        category_counts = Counter(categories)\n",
    "        category_summaries.append(category_counts)\n",
    "    \n",
    "    else:\n",
    "        print(f\"Issue at index {idx}: {request.status_code}\")\n",
    "        foursquare_responses.append({})\n",
    "        category_summaries.append({})\n"
   ]
  },
  {
   "cell_type": "code",
   "execution_count": 11,
   "metadata": {},
   "outputs": [],
   "source": [
    "# save responses\n",
    "import json\n",
    "\n",
    "# Save full responses\n",
    "with open(\"foursquare_responses.json\", \"w\") as f:\n",
    "    json.dump(foursquare_responses, f)\n",
    "\n",
    "# Save category summaries\n",
    "with open(\"category_summaries.json\", \"w\") as f:\n",
    "    json.dump([dict(c) for c in category_summaries], f)\n",
    "\n"
   ]
  },
  {
   "cell_type": "markdown",
   "metadata": {},
   "source": [
    "Parse through the response to get the POI (such as restaurants, bars, etc) details you want (ratings, name, location, etc)"
   ]
  },
  {
   "cell_type": "code",
   "execution_count": 12,
   "metadata": {},
   "outputs": [],
   "source": [
    "# Lists to build df_poi\n",
    "poi_station_ids = []\n",
    "poi_names = []\n",
    "poi_latitudes = []\n",
    "poi_longitudes = []\n",
    "poi_locations = []\n",
    "poi_categories = []\n",
    "poi_distances = []\n",
    "\n",
    "# Loop through each Foursquare response + its index (matches station index)\n",
    "for station_idx, response in enumerate(foursquare_responses):\n",
    "    if 'results' in response:\n",
    "        for place in response['results']:\n",
    "            name = place.get('name', 'N/A')\n",
    "            location = place.get('location', {})\n",
    "            lat = place.get('geocodes', {}).get('main', {}).get('latitude', None)\n",
    "            lon = place.get('geocodes', {}).get('main', {}).get('longitude', None)\n",
    "            categories = place.get('categories', [])\n",
    "            category = categories[0]['name'] if categories else 'Unknown'\n",
    "            distance = place.get('distance', None)\n",
    "\n",
    "            # Add station_id to keep track\n",
    "            poi_station_ids.append(station_idx)\n",
    "            poi_names.append(name)\n",
    "            poi_locations.append(location)\n",
    "            poi_latitudes.append(lat)\n",
    "            poi_longitudes.append(lon)\n",
    "            poi_categories.append(category)\n",
    "            poi_distances.append(distance)\n",
    "\n",
    "            poi_category_summary = [category_summaries[idx] for idx in poi_station_ids]\n",
    "\n",
    "\n"
   ]
  },
  {
   "cell_type": "markdown",
   "metadata": {},
   "source": [
    "Put your parsed results into a DataFrame"
   ]
  },
  {
   "cell_type": "code",
   "execution_count": 14,
   "metadata": {},
   "outputs": [
    {
     "name": "stdout",
     "output_type": "stream",
     "text": [
      "   station_index              poi_name  poi_latitude  poi_longitude  \\\n",
      "0              0        Vermuteria Lou     41.405910       2.162397   \n",
      "1              0       Taverna el Glop     41.404895       2.159547   \n",
      "2              0            La Catrina     41.407947       2.159362   \n",
      "3              0  La Antigua de Mexico     41.403826       2.158413   \n",
      "4              0            Verdi Park     41.404424       2.157652   \n",
      "\n",
      "                                        poi_location  \\\n",
      "0  {'address': 'Carrer Escorial, 3', 'address_ext...   \n",
      "1  {'address': 'Sant Lluís, 24', 'admin_region': ...   \n",
      "2  {'address': 'Providencia, 88', 'admin_region':...   \n",
      "3  {'address': 'Torrijos, 50', 'admin_region': 'C...   \n",
      "4  {'address': 'Calle Torrijos, 49', 'admin_regio...   \n",
      "\n",
      "               poi_category  poi_distance  \\\n",
      "0                       Bar            48   \n",
      "1                 BBQ Joint           237   \n",
      "2  Mediterranean Restaurant           361   \n",
      "3           Taco Restaurant           371   \n",
      "4       Indie Movie Theater           396   \n",
      "\n",
      "                            station_category_summary  \n",
      "0  {'bar': 4, 'mediterranean restaurant': 9, 'tap...  \n",
      "1  {'bar': 4, 'mediterranean restaurant': 9, 'tap...  \n",
      "2  {'bar': 4, 'mediterranean restaurant': 9, 'tap...  \n",
      "3  {'bar': 4, 'mediterranean restaurant': 9, 'tap...  \n",
      "4  {'bar': 4, 'mediterranean restaurant': 9, 'tap...  \n"
     ]
    }
   ],
   "source": [
    "\n",
    "df_poi = pd.DataFrame({\n",
    "    \"station_index\": poi_station_ids,\n",
    "    \"poi_name\": poi_names,\n",
    "    \"poi_latitude\": poi_latitudes,\n",
    "    \"poi_longitude\": poi_longitudes,\n",
    "    \"poi_location\": poi_locations,\n",
    "    \"poi_category\": poi_categories,\n",
    "    \"poi_distance\": poi_distances,\n",
    "    \"station_category_summary\": poi_category_summary\n",
    "})\n",
    "\n",
    "\n",
    "print(df_poi.head())\n",
    "\n",
    "\n"
   ]
  },
  {
   "cell_type": "code",
   "execution_count": null,
   "metadata": {},
   "outputs": [],
   "source": [
    "df_poi.to_csv('poi.csv')"
   ]
  },
  {
   "cell_type": "code",
   "execution_count": null,
   "metadata": {},
   "outputs": [],
   "source": [
    "df_poi.isnull().sum()\n"
   ]
  },
  {
   "cell_type": "markdown",
   "metadata": {},
   "source": [
    "# Yelp"
   ]
  },
  {
   "cell_type": "code",
   "execution_count": null,
   "metadata": {},
   "outputs": [],
   "source": []
  },
  {
   "cell_type": "markdown",
   "metadata": {},
   "source": [
    "Send a request to Yelp with a small radius (1000m) for all the bike stations in your city of choice. "
   ]
  },
  {
   "cell_type": "code",
   "execution_count": null,
   "metadata": {},
   "outputs": [],
   "source": []
  },
  {
   "cell_type": "markdown",
   "metadata": {},
   "source": [
    "Parse through the response to get the POI (such as restaurants, bars, etc) details you want (ratings, name, location, etc)"
   ]
  },
  {
   "cell_type": "code",
   "execution_count": null,
   "metadata": {},
   "outputs": [],
   "source": []
  },
  {
   "cell_type": "markdown",
   "metadata": {},
   "source": [
    "Put your parsed results into a DataFrame"
   ]
  },
  {
   "cell_type": "markdown",
   "metadata": {},
   "source": []
  },
  {
   "cell_type": "markdown",
   "metadata": {},
   "source": [
    "# Comparing Results"
   ]
  },
  {
   "cell_type": "markdown",
   "metadata": {},
   "source": [
    "Which API provided you with more complete data? Provide an explanation. "
   ]
  },
  {
   "cell_type": "markdown",
   "metadata": {},
   "source": []
  },
  {
   "cell_type": "markdown",
   "metadata": {},
   "source": [
    "Get the top 10 restaurants according to their rating"
   ]
  }
 ],
 "metadata": {
  "kernelspec": {
   "display_name": "exam_env2",
   "language": "python",
   "name": "python3"
  },
  "language_info": {
   "codemirror_mode": {
    "name": "ipython",
    "version": 3
   },
   "file_extension": ".py",
   "mimetype": "text/x-python",
   "name": "python",
   "nbconvert_exporter": "python",
   "pygments_lexer": "ipython3",
   "version": "3.11.8"
  }
 },
 "nbformat": 4,
 "nbformat_minor": 4
}
